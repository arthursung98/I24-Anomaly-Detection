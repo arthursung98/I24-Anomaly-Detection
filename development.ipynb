{
 "cells": [
  {
   "cell_type": "code",
   "execution_count": null,
   "id": "a441a74a",
   "metadata": {},
   "outputs": [],
   "source": [
    "import pandas as pd\n",
    "import numpy as np\n",
    "import matplotlib.pyplot as plt\n",
    "import main\n",
    "from Graph import Graph\n",
    "from Node import Node\n",
    "from Edge import Edge"
   ]
  },
  {
   "cell_type": "code",
   "execution_count": null,
   "id": "c91fc9a3",
   "metadata": {},
   "outputs": [],
   "source": [
    "MyGraph = Graph()\n",
    "\n",
    "input_directory = r\"C:\\I24 Motion Project\\Anomaly Detection\\csv\\TM_1000_GT.csv\"\n",
    "df = main.read_full_data(input_directory, 0)"
   ]
  },
  {
   "cell_type": "code",
   "execution_count": null,
   "id": "8c55b059",
   "metadata": {},
   "outputs": [],
   "source": [
    "one_frame_df = df.loc[(df['Frame #'] == 100)].sort_values('x').reset_index()\n",
    "print(one_frame_df)\n",
    "one_frame_matrix = np.array(one_frame_df)\n",
    "\n",
    "# Add all the nodes\n",
    "for one_row in one_frame_matrix :\n",
    "    ID, x_pos, y_pos = one_row[1], one_row[2], one_row[3]\n",
    "    car_node = Node(ID,x_pos,y_pos,0)\n",
    "    MyGraph.add_node(car_node)\n",
    "    \n",
    "# Add all the edges thru sliding window approach\n",
    "# def add_edges(one_frame_df, MyGraph) :\n",
    "i = 0\n",
    "\n",
    "while(len(one_frame_df) != 0) :\n",
    "    # 1. Prepare ego car node to create edges with.\n",
    "    ego_car_node = Node(one_frame_df.at[i, 'ID'], \n",
    "                        one_frame_df.at[i, 'x'], \n",
    "                        one_frame_df.at[i, 'y'], \n",
    "                        0)\n",
    "    window_start = one_frame_df.at[i, 'x']                              # 2. Get x position of left-most car\n",
    "    window_df = one_frame_df.loc[one_frame_df['x'] < window_start + 20] # 3. Select all cars within window\n",
    "    # 4. Translate all cars in window as edges and add to graph.\n",
    "    window_ar = np.array(window_df)\n",
    "    \n",
    "    for row in window_ar :\n",
    "        ID, x_pos, y_pos = row[2], one_row[3], one_row[4]\n",
    "        car_node = Node(ID, x_pos, y_pos, 0)\n",
    "        edge1, edge2 = Edge(ego_car_node, car_node), Edge(car_node, ego_car_node)\n",
    "        print(edge1)\n",
    "        MyGraph.add_edge(edge1)\n",
    "        MyGraph.add_edge(edge2)\n",
    "    \n",
    "    # 5. Drop the very first row.\n",
    "    one_frame_df.drop(index=i,inplace=True)\n",
    "    i += 1"
   ]
  },
  {
   "cell_type": "code",
   "execution_count": null,
   "id": "1322ec46",
   "metadata": {},
   "outputs": [],
   "source": [
    "##### TODO : Add the == operator for the Graph class, and more checking schemes."
   ]
  }
 ],
 "metadata": {
  "kernelspec": {
   "display_name": "Python 3 (ipykernel)",
   "language": "python",
   "name": "python3"
  },
  "language_info": {
   "codemirror_mode": {
    "name": "ipython",
    "version": 3
   },
   "file_extension": ".py",
   "mimetype": "text/x-python",
   "name": "python",
   "nbconvert_exporter": "python",
   "pygments_lexer": "ipython3",
   "version": "3.9.7"
  }
 },
 "nbformat": 4,
 "nbformat_minor": 5
}
